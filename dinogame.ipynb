{
 "cells": [
  {
   "cell_type": "code",
   "execution_count": 7,
   "id": "d85649b2",
   "metadata": {
    "scrolled": true
   },
   "outputs": [
    {
     "name": "stdout",
     "output_type": "stream",
     "text": [
      "Collecting cvzone\n",
      "  Using cached cvzone-1.5.6-py3-none-any.whl\n",
      "Requirement already satisfied: numpy in /Users/seokminlee/opt/anaconda3/envs/tf/lib/python3.9/site-packages (from cvzone) (1.24.2)\n",
      "Requirement already satisfied: opencv-python in /Users/seokminlee/opt/anaconda3/envs/tf/lib/python3.9/site-packages (from cvzone) (4.7.0.72)\n",
      "Installing collected packages: cvzone\n",
      "Successfully installed cvzone-1.5.6\n"
     ]
    }
   ],
   "source": [
    "!pip install cvzone"
   ]
  },
  {
   "cell_type": "code",
   "execution_count": 83,
   "id": "a725a755",
   "metadata": {},
   "outputs": [
    {
     "ename": "AttributeError",
     "evalue": "module 'ctypes' has no attribute 'windll'",
     "output_type": "error",
     "traceback": [
      "\u001b[0;31m---------------------------------------------------------------------------\u001b[0m",
      "\u001b[0;31mAttributeError\u001b[0m                            Traceback (most recent call last)",
      "Cell \u001b[0;32mIn[83], line 4\u001b[0m\n\u001b[1;32m      2\u001b[0m \u001b[38;5;28;01mimport\u001b[39;00m \u001b[38;5;21;01mcvzone\u001b[39;00m\n\u001b[1;32m      3\u001b[0m \u001b[38;5;28;01mfrom\u001b[39;00m \u001b[38;5;21;01mcvzone\u001b[39;00m\u001b[38;5;21;01m.\u001b[39;00m\u001b[38;5;21;01mHandTrackingModule\u001b[39;00m \u001b[38;5;28;01mimport\u001b[39;00m HandDetector\n\u001b[0;32m----> 4\u001b[0m \u001b[38;5;28;01mfrom\u001b[39;00m \u001b[38;5;21;01mdirectkeys\u001b[39;00m \u001b[38;5;28;01mimport\u001b[39;00m PressKey, ReleaseKey\n\u001b[1;32m      5\u001b[0m \u001b[38;5;28;01mfrom\u001b[39;00m \u001b[38;5;21;01mdirectkeys\u001b[39;00m \u001b[38;5;28;01mimport\u001b[39;00m space_pressed\n\u001b[1;32m      6\u001b[0m \u001b[38;5;28;01mimport\u001b[39;00m \u001b[38;5;21;01mtime\u001b[39;00m\n",
      "File \u001b[0;32m~/Desktop/mose/rhythm-game-project/directkeys.py:5\u001b[0m\n\u001b[1;32m      2\u001b[0m \u001b[38;5;28;01mimport\u001b[39;00m \u001b[38;5;21;01mctypes\u001b[39;00m\n\u001b[1;32m      3\u001b[0m \u001b[38;5;28;01mimport\u001b[39;00m \u001b[38;5;21;01mtime\u001b[39;00m\n\u001b[0;32m----> 5\u001b[0m SendInput \u001b[38;5;241m=\u001b[39m \u001b[43mctypes\u001b[49m\u001b[38;5;241;43m.\u001b[39;49m\u001b[43mwindll\u001b[49m\u001b[38;5;241m.\u001b[39muser32\u001b[38;5;241m.\u001b[39mSendInput\n\u001b[1;32m      7\u001b[0m space_pressed\u001b[38;5;241m=\u001b[39m\u001b[38;5;241m0x39\u001b[39m\n\u001b[1;32m      9\u001b[0m \u001b[38;5;66;03m# C struct redefinitions \u001b[39;00m\n",
      "\u001b[0;31mAttributeError\u001b[0m: module 'ctypes' has no attribute 'windll'"
     ]
    }
   ],
   "source": [
    "import cv2\n",
    "import cvzone\n",
    "from cvzone.HandTrackingModule import HandDetector\n",
    "from directkeys import PressKey, ReleaseKey\n",
    "from directkeys import space_pressed\n",
    "import time\n",
    "from ctypes\n",
    "\n",
    "# maxHands = 손 인식 개수\n",
    "detector = HandDetector(detectionCon = 0.8, maxHands = 1)\n",
    "space_key_pressed = space_pressed\n",
    "time.sleep(2.0)\n",
    "current_key_pressed = set()\n",
    "video = cv2.VideoCapture(1)\n",
    "\n",
    "while True:\n",
    "    ret, frame = video.read()\n",
    "    keyPressed = False\n",
    "    spacePressed = False\n",
    "    key_count = 0\n",
    "    key_pressed = 0   \n",
    "    hands,img = detector.findHands(frame)\n",
    "    # Finger Count box\n",
    "    cv2.rectangle(img, (1900, 1050), (1440, 980), (100, 200, 100), -2)\n",
    "    cv2.rectangle(img, (10, 1050), (565, 980), (100, 200, 100), -2)\n",
    "\n",
    "    if hands:\n",
    "        lmList = hands[0]\n",
    "        fingerUp = detector.fingersUp(lmList)\n",
    "#         print(fingerUp)\n",
    "        \n",
    "        # Finger Count\n",
    "        if fingerUp == [0, 0, 0, 0, 0]:\n",
    "            cv2.putText(frame, 'Finger Count: 0', (20, 1030), cv2.FONT_HERSHEY_COMPLEX, 2, (255, 255, 255), 2, cv2.LINE_AA)\n",
    "            cv2.putText(frame, 'Jumping', (1600, 1030), cv2.FONT_HERSHEY_COMPLEX, 2, (255, 255, 255), 2, cv2.LINE_AA)\n",
    "            PressKey(space_key_pressed)\n",
    "            spacePressed = True\n",
    "            current_key_pressed.add(space_key_pressed)\n",
    "            key_pressed = space_key_pressed\n",
    "            keyPressed = True\n",
    "            key_count=key_count+1\n",
    "        if fingerUp == [0, 1, 0, 0, 0]:\n",
    "            cv2.putText(frame, 'Finger Count: 1', (20, 1030), cv2.FONT_HERSHEY_COMPLEX, 2, (255, 255, 255), 2, cv2.LINE_AA)\n",
    "            cv2.putText(frame, 'Not Jumping', (1450, 1030), cv2.FONT_HERSHEY_COMPLEX, 2, (255, 255, 255), 2, cv2.LINE_AA)\n",
    "        if fingerUp == [0, 1, 1, 0, 0]:\n",
    "            cv2.putText(frame, 'Finger Count: 2', (20, 1030), cv2.FONT_HERSHEY_COMPLEX, 2, (255, 255, 255), 2, cv2.LINE_AA)\n",
    "            cv2.putText(frame, 'Not Jumping', (1450, 1030), cv2.FONT_HERSHEY_COMPLEX, 2, (255, 255, 255), 2, cv2.LINE_AA)\n",
    "        if fingerUp == [0, 1, 1, 1, 0]:\n",
    "            cv2.putText(frame, 'Finger Count: 3', (20, 1030), cv2.FONT_HERSHEY_COMPLEX, 2, (255, 255, 255), 2, cv2.LINE_AA)\n",
    "            cv2.putText(frame, 'Not Jumping', (1450, 1030), cv2.FONT_HERSHEY_COMPLEX, 2, (255, 255, 255), 2, cv2.LINE_AA)\n",
    "        if fingerUp == [0, 1, 1, 1, 1]:\n",
    "            cv2.putText(frame, 'Finger Count: 4', (20, 1030), cv2.FONT_HERSHEY_COMPLEX, 2, (255, 255, 255), 2, cv2.LINE_AA)\n",
    "            cv2.putText(frame, 'Not Jumping', (1450, 1030), cv2.FONT_HERSHEY_COMPLEX, 2, (255, 255, 255), 2, cv2.LINE_AA)\n",
    "        if fingerUp == [1, 1, 1, 1, 1]:\n",
    "            cv2.putText(frame, 'Finger Count: 5', (20, 1030), cv2.FONT_HERSHEY_COMPLEX, 2, (255, 255, 255), 2, cv2.LINE_AA)    \n",
    "            cv2.putText(frame, 'Not Jumping', (1450, 1030), cv2.FONT_HERSHEY_COMPLEX, 2, (255, 255, 255), 2, cv2.LINE_AA)\n",
    "        \n",
    "        if not keyPressed and len(current_key_pressed) != 0:\n",
    "            for key in current_key_pressed:\n",
    "                ReleaseKey(key)\n",
    "            current_key_pressed = set()\n",
    "        elif key_count == 1 and len(current_key_pressed) == 2:    \n",
    "            for key in current_key_pressed:             \n",
    "                if key_pressed != key:\n",
    "                    ReleaseKey(key)\n",
    "            current_key_pressed = set()\n",
    "            for key in current_key_pressed:\n",
    "                ReleaseKey(key)\n",
    "            current_key_pressed = set()\n",
    "            \n",
    "            \n",
    "#     frame = cv2.flip(frame, 1) # 좌우 반전\n",
    "    cv2.imshow('Frame', frame)\n",
    "    k = cv2.waitKey(1)\n",
    "    if k == ord('q'):\n",
    "        break\n",
    "\n",
    "video.release()\n",
    "cv2.destroyAllWindows()\n",
    "cv2.waitKey(1)"
   ]
  },
  {
   "cell_type": "code",
   "execution_count": null,
   "id": "fdb9d2e3",
   "metadata": {},
   "outputs": [],
   "source": [
    "# Finger Count box (Windows 좌표)\n",
    "cv2.rectangle(img, (0, 480), (300, 425),(100, 200, 100), -2)\n",
    "cv2.rectangle(img, (640, 480), (400, 425),(100, 200, 100), -2)\n",
    "\n",
    "        # Finger Count (Windows 좌표)\n",
    "        if fingerUp==[0,0,0,0,0]:\n",
    "            cv2.putText(frame, 'Finger Count: 0', (20,460), cv2.FONT_HERSHEY_COMPLEX, 1, (255,255,255), 1, cv2.LINE_AA)\n",
    "            cv2.putText(frame, 'Jumping', (440,460), cv2.FONT_HERSHEY_COMPLEX, 1, (255,255,255), 1, cv2.LINE_AA)\n",
    "            cv2.putText(frame, 'Finger Count: 1', (20,460), cv2.FONT_HERSHEY_COMPLEX, 1, (255,255,255), 1, cv2.LINE_AA)\n",
    "            cv2.putText(frame, 'Not Jumping', (420,460), cv2.FONT_HERSHEY_COMPLEX, 1, (255,255,255), 1, cv2.LINE_AA)\n",
    "        if fingerUp==[0,1,1,0,0]:\n",
    "            cv2.putText(frame, 'Finger Count: 2', (20,460), cv2.FONT_HERSHEY_COMPLEX, 1, (255,255,255), 1, cv2.LINE_AA)\n",
    "            cv2.putText(frame, 'Not Jumping', (420,460), cv2.FONT_HERSHEY_COMPLEX, 1, (255,255,255), 1, cv2.LINE_AA)\n",
    "        if fingerUp==[0,1,1,1,0]:\n",
    "            cv2.putText(frame, 'Finger Count: 3', (20,460), cv2.FONT_HERSHEY_COMPLEX, 1, (255,255,255), 1, cv2.LINE_AA)\n",
    "            cv2.putText(frame, 'Not Jumping', (420,460), cv2.FONT_HERSHEY_COMPLEX, 1, (255,255,255), 1, cv2.LINE_AA)\n",
    "        if fingerUp==[0,1,1,1,1]:\n",
    "            cv2.putText(frame, 'Finger Count: 4', (20,460), cv2.FONT_HERSHEY_COMPLEX, 1, (255,255,255), 1, cv2.LINE_AA)\n",
    "            cv2.putText(frame, 'Not Jumping', (420,460), cv2.FONT_HERSHEY_COMPLEX, 1, (255,255,255), 1, cv2.LINE_AA)\n",
    "        if fingerUp==[1,1,1,1,1]:\n",
    "            cv2.putText(frame, 'Finger Count: 5', (20,460), cv2.FONT_HERSHEY_COMPLEX, 1, (255,255,255), 1, cv2.LINE_AA)\n",
    "            cv2.putText(frame, 'Not Jumping', (420,460), cv2.FONT_HERSHEY_COMPLEX, 1, (255,255,255), 1, cv2.LINE_AA)"
   ]
  }
 ],
 "metadata": {
  "kernelspec": {
   "display_name": "Python 3 (ipykernel)",
   "language": "python",
   "name": "python3"
  },
  "language_info": {
   "codemirror_mode": {
    "name": "ipython",
    "version": 3
   },
   "file_extension": ".py",
   "mimetype": "text/x-python",
   "name": "python",
   "nbconvert_exporter": "python",
   "pygments_lexer": "ipython3",
   "version": "3.9.16"
  },
  "toc": {
   "base_numbering": 1,
   "nav_menu": {},
   "number_sections": true,
   "sideBar": true,
   "skip_h1_title": false,
   "title_cell": "Table of Contents",
   "title_sidebar": "Contents",
   "toc_cell": false,
   "toc_position": {},
   "toc_section_display": true,
   "toc_window_display": false
  },
  "varInspector": {
   "cols": {
    "lenName": 16,
    "lenType": 16,
    "lenVar": 40
   },
   "kernels_config": {
    "python": {
     "delete_cmd_postfix": "",
     "delete_cmd_prefix": "del ",
     "library": "var_list.py",
     "varRefreshCmd": "print(var_dic_list())"
    },
    "r": {
     "delete_cmd_postfix": ") ",
     "delete_cmd_prefix": "rm(",
     "library": "var_list.r",
     "varRefreshCmd": "cat(var_dic_list()) "
    }
   },
   "types_to_exclude": [
    "module",
    "function",
    "builtin_function_or_method",
    "instance",
    "_Feature"
   ],
   "window_display": false
  },
  "vscode": {
   "interpreter": {
    "hash": "aee8b7b246df8f9039afb4144a1f6fd8d2ca17a180786b69acc140d282b71a49"
   }
  }
 },
 "nbformat": 4,
 "nbformat_minor": 5
}
