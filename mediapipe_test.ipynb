{
 "cells": [
  {
   "cell_type": "markdown",
   "id": "814d6403",
   "metadata": {},
   "source": [
    "# 1. Install and Import Dependencies"
   ]
  },
  {
   "cell_type": "code",
   "execution_count": 1,
   "id": "56eb1a9b",
   "metadata": {
    "ExecuteTime": {
     "end_time": "2023-03-13T09:50:03.903371Z",
     "start_time": "2023-03-13T09:49:59.127278Z"
    },
    "collapsed": true
   },
   "outputs": [
    {
     "name": "stdout",
     "output_type": "stream",
     "text": [
      "Requirement already satisfied: mediapipe in c:\\users\\8roke\\anaconda3\\envs\\mini_project\\lib\\site-packages (0.9.1.0)"
     ]
    },
    {
     "name": "stderr",
     "output_type": "stream",
     "text": [
      "ERROR: Could not install packages due to an OSError: [WinError 5] 액세스가 거부되었습니다: 'C:\\\\Users\\\\8roke\\\\anaconda3\\\\envs\\\\mini_project\\\\Lib\\\\site-packages\\\\cv2\\\\cv2.pyd'\n",
      "Consider using the `--user` option or check the permissions.\n",
      "\n"
     ]
    },
    {
     "name": "stdout",
     "output_type": "stream",
     "text": [
      "\n",
      "Collecting opencv-python\n",
      "  Using cached opencv_python-4.7.0.72-cp37-abi3-win_amd64.whl (38.2 MB)\n",
      "Requirement already satisfied: flatbuffers>=2.0 in c:\\users\\8roke\\anaconda3\\envs\\mini_project\\lib\\site-packages (from mediapipe) (23.3.3)\n",
      "Requirement already satisfied: matplotlib in c:\\users\\8roke\\anaconda3\\envs\\mini_project\\lib\\site-packages (from mediapipe) (3.7.1)\n",
      "Requirement already satisfied: numpy in c:\\users\\8roke\\anaconda3\\envs\\mini_project\\lib\\site-packages (from mediapipe) (1.24.2)\n",
      "Requirement already satisfied: attrs>=19.1.0 in c:\\users\\8roke\\anaconda3\\envs\\mini_project\\lib\\site-packages (from mediapipe) (22.2.0)\n",
      "Requirement already satisfied: absl-py in c:\\users\\8roke\\anaconda3\\envs\\mini_project\\lib\\site-packages (from mediapipe) (1.4.0)\n",
      "Requirement already satisfied: opencv-contrib-python in c:\\users\\8roke\\anaconda3\\envs\\mini_project\\lib\\site-packages (from mediapipe) (4.7.0.72)\n",
      "Requirement already satisfied: protobuf<4,>=3.11 in c:\\users\\8roke\\anaconda3\\envs\\mini_project\\lib\\site-packages (from mediapipe) (3.19.6)\n",
      "Requirement already satisfied: fonttools>=4.22.0 in c:\\users\\8roke\\anaconda3\\envs\\mini_project\\lib\\site-packages (from matplotlib->mediapipe) (4.39.0)\n",
      "Requirement already satisfied: pyparsing>=2.3.1 in c:\\users\\8roke\\anaconda3\\envs\\mini_project\\lib\\site-packages (from matplotlib->mediapipe) (3.0.9)\n",
      "Requirement already satisfied: kiwisolver>=1.0.1 in c:\\users\\8roke\\anaconda3\\envs\\mini_project\\lib\\site-packages (from matplotlib->mediapipe) (1.4.4)\n",
      "Requirement already satisfied: python-dateutil>=2.7 in c:\\users\\8roke\\anaconda3\\envs\\mini_project\\lib\\site-packages (from matplotlib->mediapipe) (2.8.2)\n",
      "Requirement already satisfied: pillow>=6.2.0 in c:\\users\\8roke\\anaconda3\\envs\\mini_project\\lib\\site-packages (from matplotlib->mediapipe) (9.4.0)\n",
      "Requirement already satisfied: contourpy>=1.0.1 in c:\\users\\8roke\\anaconda3\\envs\\mini_project\\lib\\site-packages (from matplotlib->mediapipe) (1.0.7)\n",
      "Requirement already satisfied: packaging>=20.0 in c:\\users\\8roke\\anaconda3\\envs\\mini_project\\lib\\site-packages (from matplotlib->mediapipe) (23.0)\n",
      "Requirement already satisfied: cycler>=0.10 in c:\\users\\8roke\\anaconda3\\envs\\mini_project\\lib\\site-packages (from matplotlib->mediapipe) (0.11.0)\n",
      "Requirement already satisfied: importlib-resources>=3.2.0 in c:\\users\\8roke\\anaconda3\\envs\\mini_project\\lib\\site-packages (from matplotlib->mediapipe) (5.12.0)\n",
      "Requirement already satisfied: zipp>=3.1.0 in c:\\users\\8roke\\anaconda3\\envs\\mini_project\\lib\\site-packages (from importlib-resources>=3.2.0->matplotlib->mediapipe) (3.15.0)\n",
      "Requirement already satisfied: six>=1.5 in c:\\users\\8roke\\anaconda3\\envs\\mini_project\\lib\\site-packages (from python-dateutil>=2.7->matplotlib->mediapipe) (1.16.0)\n",
      "Installing collected packages: opencv-python\n"
     ]
    }
   ],
   "source": [
    "!pip install mediapipe opencv-python"
   ]
  },
  {
   "cell_type": "code",
   "execution_count": 2,
   "id": "80192cf1",
   "metadata": {
    "ExecuteTime": {
     "end_time": "2023-03-13T09:51:22.423489Z",
     "start_time": "2023-03-13T09:51:04.612735Z"
    }
   },
   "outputs": [],
   "source": [
    "import mediapipe as mp\n",
    "import cv2\n",
    "import numpy as np\n",
    "import uuid\n",
    "import os"
   ]
  },
  {
   "cell_type": "markdown",
   "id": "8a04708a",
   "metadata": {},
   "source": [
    "# 2. Draw Hands"
   ]
  },
  {
   "cell_type": "markdown",
   "id": "7191db89",
   "metadata": {},
   "source": [
    "<img src = https://mediapipe.dev/images/mobile/hand_landmarks.png>"
   ]
  },
  {
   "cell_type": "markdown",
   "id": "dc491cfb",
   "metadata": {},
   "source": [
    "- label이 손의 keypoint를 뜻한다."
   ]
  },
  {
   "cell_type": "code",
   "execution_count": 3,
   "id": "ccee74f4",
   "metadata": {
    "ExecuteTime": {
     "end_time": "2023-03-13T09:52:04.088484Z",
     "start_time": "2023-03-13T09:52:04.066463Z"
    }
   },
   "outputs": [],
   "source": [
    "mp_drawing = mp.solutions.drawing_utils\n",
    "mp_hands = mp.solutions.hands"
   ]
  },
  {
   "cell_type": "code",
   "execution_count": 27,
   "id": "3cc0dbc0",
   "metadata": {
    "ExecuteTime": {
     "end_time": "2023-03-13T10:46:32.698662Z",
     "start_time": "2023-03-13T10:46:15.971491Z"
    }
   },
   "outputs": [],
   "source": [
    "cap = cv2.VideoCapture(0)\n",
    "\n",
    "# 감지할 최대 손의 수는 기본값이 2이다.\n",
    "with mp_hands.Hands(min_detection_confidence = 0.8, min_tracking_confidence = 0.5) as hands:\n",
    "    while cap.isOpened():\n",
    "        success, frame = cap.read()\n",
    "        \n",
    "        # BGR 2 RGB\n",
    "        image = cv2.cvtColor(frame, cv2.COLOR_BGR2RGB)\n",
    "        \n",
    "        # Set flag\n",
    "        image.flags.writeable = False\n",
    "        \n",
    "        # Detection\n",
    "        results = hands.process(image)\n",
    "        \n",
    "        # Set flag to true\n",
    "        image.flags.writeable = True\n",
    "        \n",
    "        # RGB 2 BGR\n",
    "        image = cv2.cvtColor(image, cv2.COLOR_RGB2BGR)\n",
    "        \n",
    "        # Rendering results\n",
    "        # multi_hand_landmarks를 조회하면 x, y, z 좌표를 추출할 수 있다.\n",
    "        if results.multi_hand_landmarks:\n",
    "            for num, hand in enumerate(results.multi_hand_landmarks):\n",
    "                mp_drawing.draw_landmarks(image, \n",
    "                                          hand, \n",
    "                                          mp_hands.HAND_CONNECTIONS, \n",
    "                                          mp_drawing.DrawingSpec(color = (121, 22, 76), thickness = 2, circle_radius = 4),  \n",
    "                                          mp_drawing.DrawingSpec(color = (121, 44, 250), thickness = 2, circle_radius = 2)\n",
    "                                          )   \n",
    "        \n",
    "        image = cv2.flip(image, 1)\n",
    "        cv2.imshow('Hand Tracking', image)\n",
    "    \n",
    "        if cv2.waitKey(10) & 0xFF == 27:\n",
    "            break\n",
    "\n",
    "cap.release()\n",
    "cv2.destroyAllWindows()"
   ]
  }
 ],
 "metadata": {
  "kernelspec": {
   "display_name": "Python 3 (ipykernel)",
   "language": "python",
   "name": "python3"
  },
  "language_info": {
   "codemirror_mode": {
    "name": "ipython",
    "version": 3
   },
   "file_extension": ".py",
   "mimetype": "text/x-python",
   "name": "python",
   "nbconvert_exporter": "python",
   "pygments_lexer": "ipython3",
   "version": "3.9.0"
  }
 },
 "nbformat": 4,
 "nbformat_minor": 5
}
