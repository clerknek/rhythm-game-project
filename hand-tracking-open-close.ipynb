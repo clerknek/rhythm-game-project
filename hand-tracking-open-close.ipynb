{
 "cells": [
  {
   "cell_type": "code",
   "execution_count": 9,
   "id": "b7edf21a",
   "metadata": {
    "ExecuteTime": {
     "start_time": "2023-03-13T08:54:21.468Z"
    }
   },
   "outputs": [
    {
     "ename": "ModuleNotFoundError",
     "evalue": "No module named 'cv2'",
     "output_type": "error",
     "traceback": [
      "\u001b[0;31m---------------------------------------------------------------------------\u001b[0m",
      "\u001b[0;31mModuleNotFoundError\u001b[0m                       Traceback (most recent call last)",
      "Cell \u001b[0;32mIn[9], line 1\u001b[0m\n\u001b[0;32m----> 1\u001b[0m \u001b[39mimport\u001b[39;00m \u001b[39mcv2\u001b[39;00m\n\u001b[1;32m      2\u001b[0m \u001b[39mimport\u001b[39;00m \u001b[39mmediapipe\u001b[39;00m \u001b[39mas\u001b[39;00m \u001b[39mmp\u001b[39;00m\n\u001b[1;32m      3\u001b[0m mp_drawing \u001b[39m=\u001b[39m mp\u001b[39m.\u001b[39msolutions\u001b[39m.\u001b[39mdrawing_utils\n",
      "\u001b[0;31mModuleNotFoundError\u001b[0m: No module named 'cv2'"
     ]
    }
   ],
   "source": [
    "import cv2\n",
    "import mediapipe as mp\n",
    "mp_drawing = mp.solutions.drawing_utils\n",
    "mp_drawing_styles = mp.solutions.drawing_styles\n",
    "mp_hands = mp.solutions.hands\n",
    "\n",
    "# For webcam input:\n",
    "cap = cv2.VideoCapture(1)\n",
    "\n",
    "with mp_hands.Hands(min_detection_confidence=0.5, min_tracking_confidence=0.5) as hands:\n",
    "    while cap.isOpened():\n",
    "        success, image = cap.read()\n",
    "        if not success:\n",
    "            print(\"Ignoring empty camera frame.\")\n",
    "            # If loading a video, use 'break' instead of 'continue'.\n",
    "            continue\n",
    "\n",
    "        # Flip the image horizontally for a later selfie-view display, and convert\n",
    "        # the BGR image to RGB.\n",
    "        image = cv2.cvtColor(cv2.flip(image, 1), cv2.COLOR_BGR2RGB)\n",
    "        # To improve performance, optionally mark the image as not writeable to\n",
    "        # pass by reference.\n",
    "        image.flags.writeable = False\n",
    "        results = hands.process(image)\n",
    "\n",
    "        # Draw the hand annotations on the image.\n",
    "        image.flags.writeable = True\n",
    "        image = cv2.cvtColor(image, cv2.COLOR_RGB2BGR)\n",
    "        if results.multi_hand_landmarks:\n",
    "            for hand_landmarks in results.multi_hand_landmarks:\n",
    "                x, y = hand_landmarks.landmark[9].x, hand_landmarks.landmark[9].y\n",
    "                x1, y1 = hand_landmarks.landmark[12].x, hand_landmarks.landmark[12].y\n",
    "\n",
    "                cv2.circle(image, (int(x), int(y)), 10, (0, 255, 0), -1)\n",
    "                cv2.circle(image, (int(x1), int(y1)), 10, (0, 0, 255), -1)\n",
    "\n",
    "                if y1 > y:\n",
    "                    hand_status = \"closed\"\n",
    "\n",
    "                else:\n",
    "                    hand_status = \"open\"\n",
    "                cv2.putText(image, hand_status, (50, 50), 0, 1.5, (0, 0, 255), 2)\n",
    "\n",
    "        cv2.imshow('MediaPipe Hands', image)\n",
    "        if cv2.waitKey(5) & 0xFF == 27:\n",
    "            break\n",
    "cap.release()"
   ]
  },
  {
   "cell_type": "code",
   "execution_count": 10,
   "id": "d60c423b",
   "metadata": {},
   "outputs": [
    {
     "name": "stdout",
     "output_type": "stream",
     "text": [
      "Requirement already satisfied: opencv-python in /Users/seokminlee/opt/anaconda3/lib/python3.9/site-packages (4.7.0.72)\n",
      "Requirement already satisfied: numpy>=1.19.3 in /Users/seokminlee/opt/anaconda3/lib/python3.9/site-packages (from opencv-python) (1.24.2)\n",
      "\n",
      "\u001b[1m[\u001b[0m\u001b[34;49mnotice\u001b[0m\u001b[1;39;49m]\u001b[0m\u001b[39;49m A new release of pip is available: \u001b[0m\u001b[31;49m23.0\u001b[0m\u001b[39;49m -> \u001b[0m\u001b[32;49m23.0.1\u001b[0m\n",
      "\u001b[1m[\u001b[0m\u001b[34;49mnotice\u001b[0m\u001b[1;39;49m]\u001b[0m\u001b[39;49m To update, run: \u001b[0m\u001b[32;49mpip install --upgrade pip\u001b[0m\n"
     ]
    }
   ],
   "source": [
    "!pip install opencv-python"
   ]
  },
  {
   "cell_type": "code",
   "execution_count": 11,
   "id": "3c63ca29",
   "metadata": {},
   "outputs": [
    {
     "name": "stdout",
     "output_type": "stream",
     "text": [
      "Requirement already satisfied: pyautogui in /Users/seokminlee/opt/anaconda3/lib/python3.9/site-packages (0.9.53)\n",
      "Requirement already satisfied: mouseinfo in /Users/seokminlee/opt/anaconda3/lib/python3.9/site-packages (from pyautogui) (0.1.3)\n",
      "Requirement already satisfied: pyscreeze>=0.1.21 in /Users/seokminlee/opt/anaconda3/lib/python3.9/site-packages (from pyautogui) (0.1.28)\n",
      "Requirement already satisfied: PyTweening>=1.0.1 in /Users/seokminlee/opt/anaconda3/lib/python3.9/site-packages (from pyautogui) (1.0.4)\n",
      "Requirement already satisfied: pyobjc in /Users/seokminlee/opt/anaconda3/lib/python3.9/site-packages (from pyautogui) (9.0.1)\n",
      "Requirement already satisfied: pymsgbox in /Users/seokminlee/opt/anaconda3/lib/python3.9/site-packages (from pyautogui) (1.0.9)\n",
      "Requirement already satisfied: pygetwindow>=0.0.5 in /Users/seokminlee/opt/anaconda3/lib/python3.9/site-packages (from pyautogui) (0.0.9)\n",
      "Requirement already satisfied: pyobjc-core in /Users/seokminlee/opt/anaconda3/lib/python3.9/site-packages (from pyautogui) (9.0.1)\n",
      "Requirement already satisfied: pyrect in /Users/seokminlee/opt/anaconda3/lib/python3.9/site-packages (from pygetwindow>=0.0.5->pyautogui) (0.2.0)\n",
      "Requirement already satisfied: pyperclip in /Users/seokminlee/opt/anaconda3/lib/python3.9/site-packages (from mouseinfo->pyautogui) (1.8.2)\n",
      "Requirement already satisfied: rubicon-objc in /Users/seokminlee/opt/anaconda3/lib/python3.9/site-packages (from mouseinfo->pyautogui) (0.4.5)\n",
      "Requirement already satisfied: pyobjc-framework-ColorSync==9.0.1 in /Users/seokminlee/opt/anaconda3/lib/python3.9/site-packages (from pyobjc->pyautogui) (9.0.1)\n",
      "Requirement already satisfied: pyobjc-framework-NetworkExtension==9.0.1 in /Users/seokminlee/opt/anaconda3/lib/python3.9/site-packages (from pyobjc->pyautogui) (9.0.1)\n",
      "Requirement already satisfied: pyobjc-framework-MultipeerConnectivity==9.0.1 in /Users/seokminlee/opt/anaconda3/lib/python3.9/site-packages (from pyobjc->pyautogui) (9.0.1)\n",
      "Requirement already satisfied: pyobjc-framework-MetalFX==9.0.1 in /Users/seokminlee/opt/anaconda3/lib/python3.9/site-packages (from pyobjc->pyautogui) (9.0.1)\n",
      "Requirement already satisfied: pyobjc-framework-GameCenter==9.0.1 in /Users/seokminlee/opt/anaconda3/lib/python3.9/site-packages (from pyobjc->pyautogui) (9.0.1)\n",
      "Requirement already satisfied: pyobjc-framework-FinderSync==9.0.1 in /Users/seokminlee/opt/anaconda3/lib/python3.9/site-packages (from pyobjc->pyautogui) (9.0.1)\n",
      "Requirement already satisfied: pyobjc-framework-ClassKit==9.0.1 in /Users/seokminlee/opt/anaconda3/lib/python3.9/site-packages (from pyobjc->pyautogui) (9.0.1)\n",
      "Requirement already satisfied: pyobjc-framework-SearchKit==9.0.1 in /Users/seokminlee/opt/anaconda3/lib/python3.9/site-packages (from pyobjc->pyautogui) (9.0.1)\n",
      "Requirement already satisfied: pyobjc-framework-SharedWithYouCore==9.0.1 in /Users/seokminlee/opt/anaconda3/lib/python3.9/site-packages (from pyobjc->pyautogui) (9.0.1)\n",
      "Requirement already satisfied: pyobjc-framework-DiskArbitration==9.0.1 in /Users/seokminlee/opt/anaconda3/lib/python3.9/site-packages (from pyobjc->pyautogui) (9.0.1)\n",
      "Requirement already satisfied: pyobjc-framework-AVFoundation==9.0.1 in /Users/seokminlee/opt/anaconda3/lib/python3.9/site-packages (from pyobjc->pyautogui) (9.0.1)\n",
      "Requirement already satisfied: pyobjc-framework-ModelIO==9.0.1 in /Users/seokminlee/opt/anaconda3/lib/python3.9/site-packages (from pyobjc->pyautogui) (9.0.1)\n",
      "Requirement already satisfied: pyobjc-framework-SecurityFoundation==9.0.1 in /Users/seokminlee/opt/anaconda3/lib/python3.9/site-packages (from pyobjc->pyautogui) (9.0.1)\n",
      "Requirement already satisfied: pyobjc-framework-CoreText==9.0.1 in /Users/seokminlee/opt/anaconda3/lib/python3.9/site-packages (from pyobjc->pyautogui) (9.0.1)\n",
      "Requirement already satisfied: pyobjc-framework-CoreData==9.0.1 in /Users/seokminlee/opt/anaconda3/lib/python3.9/site-packages (from pyobjc->pyautogui) (9.0.1)\n",
      "Requirement already satisfied: pyobjc-framework-Accounts==9.0.1 in /Users/seokminlee/opt/anaconda3/lib/python3.9/site-packages (from pyobjc->pyautogui) (9.0.1)\n",
      "Requirement already satisfied: pyobjc-framework-CoreWLAN==9.0.1 in /Users/seokminlee/opt/anaconda3/lib/python3.9/site-packages (from pyobjc->pyautogui) (9.0.1)\n",
      "Requirement already satisfied: pyobjc-framework-ScreenSaver==9.0.1 in /Users/seokminlee/opt/anaconda3/lib/python3.9/site-packages (from pyobjc->pyautogui) (9.0.1)\n",
      "Requirement already satisfied: pyobjc-framework-NaturalLanguage==9.0.1 in /Users/seokminlee/opt/anaconda3/lib/python3.9/site-packages (from pyobjc->pyautogui) (9.0.1)\n",
      "Requirement already satisfied: pyobjc-framework-ExecutionPolicy==9.0.1 in /Users/seokminlee/opt/anaconda3/lib/python3.9/site-packages (from pyobjc->pyautogui) (9.0.1)\n",
      "Requirement already satisfied: pyobjc-framework-Virtualization==9.0.1 in /Users/seokminlee/opt/anaconda3/lib/python3.9/site-packages (from pyobjc->pyautogui) (9.0.1)\n",
      "Requirement already satisfied: pyobjc-framework-ServiceManagement==9.0.1 in /Users/seokminlee/opt/anaconda3/lib/python3.9/site-packages (from pyobjc->pyautogui) (9.0.1)\n",
      "Requirement already satisfied: pyobjc-framework-CoreMediaIO==9.0.1 in /Users/seokminlee/opt/anaconda3/lib/python3.9/site-packages (from pyobjc->pyautogui) (9.0.1)\n",
      "Requirement already satisfied: pyobjc-framework-ExtensionKit==9.0.1 in /Users/seokminlee/opt/anaconda3/lib/python3.9/site-packages (from pyobjc->pyautogui) (9.0.1)\n",
      "Requirement already satisfied: pyobjc-framework-Cocoa==9.0.1 in /Users/seokminlee/opt/anaconda3/lib/python3.9/site-packages (from pyobjc->pyautogui) (9.0.1)\n",
      "Requirement already satisfied: pyobjc-framework-SharedWithYou==9.0.1 in /Users/seokminlee/opt/anaconda3/lib/python3.9/site-packages (from pyobjc->pyautogui) (9.0.1)\n",
      "Requirement already satisfied: pyobjc-framework-CoreMotion==9.0.1 in /Users/seokminlee/opt/anaconda3/lib/python3.9/site-packages (from pyobjc->pyautogui) (9.0.1)\n",
      "Requirement already satisfied: pyobjc-framework-ThreadNetwork==9.0.1 in /Users/seokminlee/opt/anaconda3/lib/python3.9/site-packages (from pyobjc->pyautogui) (9.0.1)\n",
      "Requirement already satisfied: pyobjc-framework-CFNetwork==9.0.1 in /Users/seokminlee/opt/anaconda3/lib/python3.9/site-packages (from pyobjc->pyautogui) (9.0.1)\n",
      "Requirement already satisfied: pyobjc-framework-OSLog==9.0.1 in /Users/seokminlee/opt/anaconda3/lib/python3.9/site-packages (from pyobjc->pyautogui) (9.0.1)\n",
      "Requirement already satisfied: pyobjc-framework-MediaPlayer==9.0.1 in /Users/seokminlee/opt/anaconda3/lib/python3.9/site-packages (from pyobjc->pyautogui) (9.0.1)\n",
      "Requirement already satisfied: pyobjc-framework-CoreAudioKit==9.0.1 in /Users/seokminlee/opt/anaconda3/lib/python3.9/site-packages (from pyobjc->pyautogui) (9.0.1)\n",
      "Requirement already satisfied: pyobjc-framework-ExternalAccessory==9.0.1 in /Users/seokminlee/opt/anaconda3/lib/python3.9/site-packages (from pyobjc->pyautogui) (9.0.1)\n",
      "Requirement already satisfied: pyobjc-framework-CoreMedia==9.0.1 in /Users/seokminlee/opt/anaconda3/lib/python3.9/site-packages (from pyobjc->pyautogui) (9.0.1)\n",
      "Requirement already satisfied: pyobjc-framework-UserNotificationsUI==9.0.1 in /Users/seokminlee/opt/anaconda3/lib/python3.9/site-packages (from pyobjc->pyautogui) (9.0.1)\n",
      "Requirement already satisfied: pyobjc-framework-SecurityInterface==9.0.1 in /Users/seokminlee/opt/anaconda3/lib/python3.9/site-packages (from pyobjc->pyautogui) (9.0.1)\n",
      "Requirement already satisfied: pyobjc-framework-CallKit==9.0.1 in /Users/seokminlee/opt/anaconda3/lib/python3.9/site-packages (from pyobjc->pyautogui) (9.0.1)\n",
      "Requirement already satisfied: pyobjc-framework-EventKit==9.0.1 in /Users/seokminlee/opt/anaconda3/lib/python3.9/site-packages (from pyobjc->pyautogui) (9.0.1)\n",
      "Requirement already satisfied: pyobjc-framework-NetFS==9.0.1 in /Users/seokminlee/opt/anaconda3/lib/python3.9/site-packages (from pyobjc->pyautogui) (9.0.1)\n",
      "Requirement already satisfied: pyobjc-framework-iTunesLibrary==9.0.1 in /Users/seokminlee/opt/anaconda3/lib/python3.9/site-packages (from pyobjc->pyautogui) (9.0.1)\n",
      "Requirement already satisfied: pyobjc-framework-LocalAuthentication==9.0.1 in /Users/seokminlee/opt/anaconda3/lib/python3.9/site-packages (from pyobjc->pyautogui) (9.0.1)\n",
      "Requirement already satisfied: pyobjc-framework-GameplayKit==9.0.1 in /Users/seokminlee/opt/anaconda3/lib/python3.9/site-packages (from pyobjc->pyautogui) (9.0.1)\n",
      "Requirement already satisfied: pyobjc-framework-SceneKit==9.0.1 in /Users/seokminlee/opt/anaconda3/lib/python3.9/site-packages (from pyobjc->pyautogui) (9.0.1)\n",
      "Requirement already satisfied: pyobjc-framework-AppleScriptObjC==9.0.1 in /Users/seokminlee/opt/anaconda3/lib/python3.9/site-packages (from pyobjc->pyautogui) (9.0.1)\n",
      "Requirement already satisfied: pyobjc-framework-SystemConfiguration==9.0.1 in /Users/seokminlee/opt/anaconda3/lib/python3.9/site-packages (from pyobjc->pyautogui) (9.0.1)\n",
      "Requirement already satisfied: pyobjc-framework-Social==9.0.1 in /Users/seokminlee/opt/anaconda3/lib/python3.9/site-packages (from pyobjc->pyautogui) (9.0.1)\n",
      "Requirement already satisfied: pyobjc-framework-GameKit==9.0.1 in /Users/seokminlee/opt/anaconda3/lib/python3.9/site-packages (from pyobjc->pyautogui) (9.0.1)\n",
      "Requirement already satisfied: pyobjc-framework-ScreenTime==9.0.1 in /Users/seokminlee/opt/anaconda3/lib/python3.9/site-packages (from pyobjc->pyautogui) (9.0.1)\n",
      "Requirement already satisfied: pyobjc-framework-MailKit==9.0.1 in /Users/seokminlee/opt/anaconda3/lib/python3.9/site-packages (from pyobjc->pyautogui) (9.0.1)\n",
      "Requirement already satisfied: pyobjc-framework-Quartz==9.0.1 in /Users/seokminlee/opt/anaconda3/lib/python3.9/site-packages (from pyobjc->pyautogui) (9.0.1)\n",
      "Requirement already satisfied: pyobjc-framework-PhotosUI==9.0.1 in /Users/seokminlee/opt/anaconda3/lib/python3.9/site-packages (from pyobjc->pyautogui) (9.0.1)\n",
      "Requirement already satisfied: pyobjc-framework-InstallerPlugins==9.0.1 in /Users/seokminlee/opt/anaconda3/lib/python3.9/site-packages (from pyobjc->pyautogui) (9.0.1)\n",
      "Requirement already satisfied: pyobjc-framework-IntentsUI==9.0.1 in /Users/seokminlee/opt/anaconda3/lib/python3.9/site-packages (from pyobjc->pyautogui) (9.0.1)\n",
      "Requirement already satisfied: pyobjc-framework-MapKit==9.0.1 in /Users/seokminlee/opt/anaconda3/lib/python3.9/site-packages (from pyobjc->pyautogui) (9.0.1)\n",
      "Requirement already satisfied: pyobjc-framework-MetalKit==9.0.1 in /Users/seokminlee/opt/anaconda3/lib/python3.9/site-packages (from pyobjc->pyautogui) (9.0.1)\n",
      "Requirement already satisfied: pyobjc-framework-Collaboration==9.0.1 in /Users/seokminlee/opt/anaconda3/lib/python3.9/site-packages (from pyobjc->pyautogui) (9.0.1)\n",
      "Requirement already satisfied: pyobjc-framework-CoreLocation==9.0.1 in /Users/seokminlee/opt/anaconda3/lib/python3.9/site-packages (from pyobjc->pyautogui) (9.0.1)\n",
      "Requirement already satisfied: pyobjc-framework-VideoSubscriberAccount==9.0.1 in /Users/seokminlee/opt/anaconda3/lib/python3.9/site-packages (from pyobjc->pyautogui) (9.0.1)\n",
      "Requirement already satisfied: pyobjc-framework-LaunchServices==9.0.1 in /Users/seokminlee/opt/anaconda3/lib/python3.9/site-packages (from pyobjc->pyautogui) (9.0.1)\n",
      "Requirement already satisfied: pyobjc-framework-FileProvider==9.0.1 in /Users/seokminlee/opt/anaconda3/lib/python3.9/site-packages (from pyobjc->pyautogui) (9.0.1)\n",
      "Requirement already satisfied: pyobjc-framework-DVDPlayback==9.0.1 in /Users/seokminlee/opt/anaconda3/lib/python3.9/site-packages (from pyobjc->pyautogui) (9.0.1)\n",
      "Requirement already satisfied: pyobjc-framework-QuickLookThumbnailing==9.0.1 in /Users/seokminlee/opt/anaconda3/lib/python3.9/site-packages (from pyobjc->pyautogui) (9.0.1)\n",
      "Requirement already satisfied: pyobjc-framework-SystemExtensions==9.0.1 in /Users/seokminlee/opt/anaconda3/lib/python3.9/site-packages (from pyobjc->pyautogui) (9.0.1)\n",
      "Requirement already satisfied: pyobjc-framework-DataDetection==9.0.1 in /Users/seokminlee/opt/anaconda3/lib/python3.9/site-packages (from pyobjc->pyautogui) (9.0.1)\n",
      "Requirement already satisfied: pyobjc-framework-Contacts==9.0.1 in /Users/seokminlee/opt/anaconda3/lib/python3.9/site-packages (from pyobjc->pyautogui) (9.0.1)\n",
      "Requirement already satisfied: pyobjc-framework-PassKit==9.0.1 in /Users/seokminlee/opt/anaconda3/lib/python3.9/site-packages (from pyobjc->pyautogui) (9.0.1)\n",
      "Requirement already satisfied: pyobjc-framework-CalendarStore==9.0.1 in /Users/seokminlee/opt/anaconda3/lib/python3.9/site-packages (from pyobjc->pyautogui) (9.0.1)\n",
      "Requirement already satisfied: pyobjc-framework-CloudKit==9.0.1 in /Users/seokminlee/opt/anaconda3/lib/python3.9/site-packages (from pyobjc->pyautogui) (9.0.1)\n",
      "Requirement already satisfied: pyobjc-framework-StoreKit==9.0.1 in /Users/seokminlee/opt/anaconda3/lib/python3.9/site-packages (from pyobjc->pyautogui) (9.0.1)\n",
      "Requirement already satisfied: pyobjc-framework-Network==9.0.1 in /Users/seokminlee/opt/anaconda3/lib/python3.9/site-packages (from pyobjc->pyautogui) (9.0.1)\n",
      "Requirement already satisfied: pyobjc-framework-LinkPresentation==9.0.1 in /Users/seokminlee/opt/anaconda3/lib/python3.9/site-packages (from pyobjc->pyautogui) (9.0.1)\n",
      "Requirement already satisfied: pyobjc-framework-PushKit==9.0.1 in /Users/seokminlee/opt/anaconda3/lib/python3.9/site-packages (from pyobjc->pyautogui) (9.0.1)\n",
      "Requirement already satisfied: pyobjc-framework-InputMethodKit==9.0.1 in /Users/seokminlee/opt/anaconda3/lib/python3.9/site-packages (from pyobjc->pyautogui) (9.0.1)\n",
      "Requirement already satisfied: pyobjc-framework-IOSurface==9.0.1 in /Users/seokminlee/opt/anaconda3/lib/python3.9/site-packages (from pyobjc->pyautogui) (9.0.1)\n",
      "Requirement already satisfied: pyobjc-framework-Intents==9.0.1 in /Users/seokminlee/opt/anaconda3/lib/python3.9/site-packages (from pyobjc->pyautogui) (9.0.1)\n",
      "Requirement already satisfied: pyobjc-framework-ImageCaptureCore==9.0.1 in /Users/seokminlee/opt/anaconda3/lib/python3.9/site-packages (from pyobjc->pyautogui) (9.0.1)\n",
      "Requirement already satisfied: pyobjc-framework-FSEvents==9.0.1 in /Users/seokminlee/opt/anaconda3/lib/python3.9/site-packages (from pyobjc->pyautogui) (9.0.1)\n",
      "Requirement already satisfied: pyobjc-framework-UniformTypeIdentifiers==9.0.1 in /Users/seokminlee/opt/anaconda3/lib/python3.9/site-packages (from pyobjc->pyautogui) (9.0.1)\n",
      "Requirement already satisfied: pyobjc-framework-CoreSpotlight==9.0.1 in /Users/seokminlee/opt/anaconda3/lib/python3.9/site-packages (from pyobjc->pyautogui) (9.0.1)\n",
      "Requirement already satisfied: pyobjc-framework-MediaToolbox==9.0.1 in /Users/seokminlee/opt/anaconda3/lib/python3.9/site-packages (from pyobjc->pyautogui) (9.0.1)\n",
      "Requirement already satisfied: pyobjc-framework-ScriptingBridge==9.0.1 in /Users/seokminlee/opt/anaconda3/lib/python3.9/site-packages (from pyobjc->pyautogui) (9.0.1)\n",
      "Requirement already satisfied: pyobjc-framework-AddressBook==9.0.1 in /Users/seokminlee/opt/anaconda3/lib/python3.9/site-packages (from pyobjc->pyautogui) (9.0.1)\n",
      "Requirement already satisfied: pyobjc-framework-Photos==9.0.1 in /Users/seokminlee/opt/anaconda3/lib/python3.9/site-packages (from pyobjc->pyautogui) (9.0.1)\n",
      "Requirement already satisfied: pyobjc-framework-MetricKit==9.0.1 in /Users/seokminlee/opt/anaconda3/lib/python3.9/site-packages (from pyobjc->pyautogui) (9.0.1)\n",
      "Requirement already satisfied: pyobjc-framework-CoreMIDI==9.0.1 in /Users/seokminlee/opt/anaconda3/lib/python3.9/site-packages (from pyobjc->pyautogui) (9.0.1)\n",
      "Requirement already satisfied: pyobjc-framework-AppTrackingTransparency==9.0.1 in /Users/seokminlee/opt/anaconda3/lib/python3.9/site-packages (from pyobjc->pyautogui) (9.0.1)\n",
      "Requirement already satisfied: pyobjc-framework-AdSupport==9.0.1 in /Users/seokminlee/opt/anaconda3/lib/python3.9/site-packages (from pyobjc->pyautogui) (9.0.1)\n",
      "Requirement already satisfied: pyobjc-framework-OpenDirectory==9.0.1 in /Users/seokminlee/opt/anaconda3/lib/python3.9/site-packages (from pyobjc->pyautogui) (9.0.1)\n",
      "Requirement already satisfied: pyobjc-framework-SoundAnalysis==9.0.1 in /Users/seokminlee/opt/anaconda3/lib/python3.9/site-packages (from pyobjc->pyautogui) (9.0.1)\n",
      "Requirement already satisfied: pyobjc-framework-MetalPerformanceShadersGraph==9.0.1 in /Users/seokminlee/opt/anaconda3/lib/python3.9/site-packages (from pyobjc->pyautogui) (9.0.1)\n",
      "Requirement already satisfied: pyobjc-framework-ApplicationServices==9.0.1 in /Users/seokminlee/opt/anaconda3/lib/python3.9/site-packages (from pyobjc->pyautogui) (9.0.1)\n",
      "Requirement already satisfied: pyobjc-framework-KernelManagement==9.0.1 in /Users/seokminlee/opt/anaconda3/lib/python3.9/site-packages (from pyobjc->pyautogui) (9.0.1)\n",
      "Requirement already satisfied: pyobjc-framework-VideoToolbox==9.0.1 in /Users/seokminlee/opt/anaconda3/lib/python3.9/site-packages (from pyobjc->pyautogui) (9.0.1)\n",
      "Requirement already satisfied: pyobjc-framework-AudioVideoBridging==9.0.1 in /Users/seokminlee/opt/anaconda3/lib/python3.9/site-packages (from pyobjc->pyautogui) (9.0.1)\n",
      "Requirement already satisfied: pyobjc-framework-MediaAccessibility==9.0.1 in /Users/seokminlee/opt/anaconda3/lib/python3.9/site-packages (from pyobjc->pyautogui) (9.0.1)\n",
      "Requirement already satisfied: pyobjc-framework-DiscRecordingUI==9.0.1 in /Users/seokminlee/opt/anaconda3/lib/python3.9/site-packages (from pyobjc->pyautogui) (9.0.1)\n",
      "Requirement already satisfied: pyobjc-framework-BackgroundAssets==9.0.1 in /Users/seokminlee/opt/anaconda3/lib/python3.9/site-packages (from pyobjc->pyautogui) (9.0.1)\n",
      "Requirement already satisfied: pyobjc-framework-LocalAuthenticationEmbeddedUI==9.0.1 in /Users/seokminlee/opt/anaconda3/lib/python3.9/site-packages (from pyobjc->pyautogui) (9.0.1)\n",
      "Requirement already satisfied: pyobjc-framework-PencilKit==9.0.1 in /Users/seokminlee/opt/anaconda3/lib/python3.9/site-packages (from pyobjc->pyautogui) (9.0.1)\n",
      "Requirement already satisfied: pyobjc-framework-libdispatch==9.0.1 in /Users/seokminlee/opt/anaconda3/lib/python3.9/site-packages (from pyobjc->pyautogui) (9.0.1)\n",
      "Requirement already satisfied: pyobjc-framework-FileProviderUI==9.0.1 in /Users/seokminlee/opt/anaconda3/lib/python3.9/site-packages (from pyobjc->pyautogui) (9.0.1)\n",
      "Requirement already satisfied: pyobjc-framework-IMServicePlugIn==9.0.1 in /Users/seokminlee/opt/anaconda3/lib/python3.9/site-packages (from pyobjc->pyautogui) (9.0.1)\n",
      "Requirement already satisfied: pyobjc-framework-SpriteKit==9.0.1 in /Users/seokminlee/opt/anaconda3/lib/python3.9/site-packages (from pyobjc->pyautogui) (9.0.1)\n",
      "Requirement already satisfied: pyobjc-framework-Vision==9.0.1 in /Users/seokminlee/opt/anaconda3/lib/python3.9/site-packages (from pyobjc->pyautogui) (9.0.1)\n",
      "Requirement already satisfied: pyobjc-framework-AVKit==9.0.1 in /Users/seokminlee/opt/anaconda3/lib/python3.9/site-packages (from pyobjc->pyautogui) (9.0.1)\n",
      "Requirement already satisfied: pyobjc-framework-OSAKit==9.0.1 in /Users/seokminlee/opt/anaconda3/lib/python3.9/site-packages (from pyobjc->pyautogui) (9.0.1)\n",
      "Requirement already satisfied: pyobjc-framework-ExceptionHandling==9.0.1 in /Users/seokminlee/opt/anaconda3/lib/python3.9/site-packages (from pyobjc->pyautogui) (9.0.1)\n",
      "Requirement already satisfied: pyobjc-framework-AuthenticationServices==9.0.1 in /Users/seokminlee/opt/anaconda3/lib/python3.9/site-packages (from pyobjc->pyautogui) (9.0.1)\n",
      "Requirement already satisfied: pyobjc-framework-SyncServices==9.0.1 in /Users/seokminlee/opt/anaconda3/lib/python3.9/site-packages (from pyobjc->pyautogui) (9.0.1)\n",
      "Requirement already satisfied: pyobjc-framework-CoreAudio==9.0.1 in /Users/seokminlee/opt/anaconda3/lib/python3.9/site-packages (from pyobjc->pyautogui) (9.0.1)\n",
      "Requirement already satisfied: pyobjc-framework-PreferencePanes==9.0.1 in /Users/seokminlee/opt/anaconda3/lib/python3.9/site-packages (from pyobjc->pyautogui) (9.0.1)\n",
      "Requirement already satisfied: pyobjc-framework-ShazamKit==9.0.1 in /Users/seokminlee/opt/anaconda3/lib/python3.9/site-packages (from pyobjc->pyautogui) (9.0.1)\n",
      "Requirement already satisfied: pyobjc-framework-BusinessChat==9.0.1 in /Users/seokminlee/opt/anaconda3/lib/python3.9/site-packages (from pyobjc->pyautogui) (9.0.1)\n",
      "Requirement already satisfied: pyobjc-framework-UserNotifications==9.0.1 in /Users/seokminlee/opt/anaconda3/lib/python3.9/site-packages (from pyobjc->pyautogui) (9.0.1)\n",
      "Requirement already satisfied: pyobjc-framework-DeviceCheck==9.0.1 in /Users/seokminlee/opt/anaconda3/lib/python3.9/site-packages (from pyobjc->pyautogui) (9.0.1)\n",
      "Requirement already satisfied: pyobjc-framework-CryptoTokenKit==9.0.1 in /Users/seokminlee/opt/anaconda3/lib/python3.9/site-packages (from pyobjc->pyautogui) (9.0.1)\n",
      "Requirement already satisfied: pyobjc-framework-DiscRecording==9.0.1 in /Users/seokminlee/opt/anaconda3/lib/python3.9/site-packages (from pyobjc->pyautogui) (9.0.1)\n",
      "Requirement already satisfied: pyobjc-framework-SafariServices==9.0.1 in /Users/seokminlee/opt/anaconda3/lib/python3.9/site-packages (from pyobjc->pyautogui) (9.0.1)\n",
      "Requirement already satisfied: pyobjc-framework-NotificationCenter==9.0.1 in /Users/seokminlee/opt/anaconda3/lib/python3.9/site-packages (from pyobjc->pyautogui) (9.0.1)\n",
      "Requirement already satisfied: pyobjc-framework-DictionaryServices==9.0.1 in /Users/seokminlee/opt/anaconda3/lib/python3.9/site-packages (from pyobjc->pyautogui) (9.0.1)\n",
      "Requirement already satisfied: pyobjc-framework-Automator==9.0.1 in /Users/seokminlee/opt/anaconda3/lib/python3.9/site-packages (from pyobjc->pyautogui) (9.0.1)\n",
      "Requirement already satisfied: pyobjc-framework-MLCompute==9.0.1 in /Users/seokminlee/opt/anaconda3/lib/python3.9/site-packages (from pyobjc->pyautogui) (9.0.1)\n",
      "Requirement already satisfied: pyobjc-framework-ContactsUI==9.0.1 in /Users/seokminlee/opt/anaconda3/lib/python3.9/site-packages (from pyobjc->pyautogui) (9.0.1)\n",
      "Requirement already satisfied: pyobjc-framework-AppleScriptKit==9.0.1 in /Users/seokminlee/opt/anaconda3/lib/python3.9/site-packages (from pyobjc->pyautogui) (9.0.1)\n",
      "Requirement already satisfied: pyobjc-framework-InstantMessage==9.0.1 in /Users/seokminlee/opt/anaconda3/lib/python3.9/site-packages (from pyobjc->pyautogui) (9.0.1)\n",
      "Requirement already satisfied: pyobjc-framework-Metal==9.0.1 in /Users/seokminlee/opt/anaconda3/lib/python3.9/site-packages (from pyobjc->pyautogui) (9.0.1)\n",
      "Requirement already satisfied: pyobjc-framework-WebKit==9.0.1 in /Users/seokminlee/opt/anaconda3/lib/python3.9/site-packages (from pyobjc->pyautogui) (9.0.1)\n",
      "Requirement already satisfied: pyobjc-framework-Accessibility==9.0.1 in /Users/seokminlee/opt/anaconda3/lib/python3.9/site-packages (from pyobjc->pyautogui) (9.0.1)\n",
      "Requirement already satisfied: pyobjc-framework-AdServices==9.0.1 in /Users/seokminlee/opt/anaconda3/lib/python3.9/site-packages (from pyobjc->pyautogui) (9.0.1)\n",
      "Requirement already satisfied: pyobjc-framework-SafetyKit==9.0.1 in /Users/seokminlee/opt/anaconda3/lib/python3.9/site-packages (from pyobjc->pyautogui) (9.0.1)\n",
      "Requirement already satisfied: pyobjc-framework-CoreHaptics==9.0.1 in /Users/seokminlee/opt/anaconda3/lib/python3.9/site-packages (from pyobjc->pyautogui) (9.0.1)\n",
      "Requirement already satisfied: pyobjc-framework-CoreServices==9.0.1 in /Users/seokminlee/opt/anaconda3/lib/python3.9/site-packages (from pyobjc->pyautogui) (9.0.1)\n",
      "Requirement already satisfied: pyobjc-framework-GameController==9.0.1 in /Users/seokminlee/opt/anaconda3/lib/python3.9/site-packages (from pyobjc->pyautogui) (9.0.1)\n",
      "Requirement already satisfied: pyobjc-framework-ScreenCaptureKit==9.0.1 in /Users/seokminlee/opt/anaconda3/lib/python3.9/site-packages (from pyobjc->pyautogui) (9.0.1)\n",
      "Requirement already satisfied: pyobjc-framework-Security==9.0.1 in /Users/seokminlee/opt/anaconda3/lib/python3.9/site-packages (from pyobjc->pyautogui) (9.0.1)\n",
      "Requirement already satisfied: pyobjc-framework-Speech==9.0.1 in /Users/seokminlee/opt/anaconda3/lib/python3.9/site-packages (from pyobjc->pyautogui) (9.0.1)\n",
      "Requirement already satisfied: pyobjc-framework-CoreBluetooth==9.0.1 in /Users/seokminlee/opt/anaconda3/lib/python3.9/site-packages (from pyobjc->pyautogui) (9.0.1)\n",
      "Requirement already satisfied: pyobjc-framework-ReplayKit==9.0.1 in /Users/seokminlee/opt/anaconda3/lib/python3.9/site-packages (from pyobjc->pyautogui) (9.0.1)\n",
      "Requirement already satisfied: pyobjc-framework-AVRouting==9.0.1 in /Users/seokminlee/opt/anaconda3/lib/python3.9/site-packages (from pyobjc->pyautogui) (9.0.1)\n",
      "Requirement already satisfied: pyobjc-framework-HealthKit==9.0.1 in /Users/seokminlee/opt/anaconda3/lib/python3.9/site-packages (from pyobjc->pyautogui) (9.0.1)\n",
      "Requirement already satisfied: pyobjc-framework-MediaLibrary==9.0.1 in /Users/seokminlee/opt/anaconda3/lib/python3.9/site-packages (from pyobjc->pyautogui) (9.0.1)\n",
      "Requirement already satisfied: pyobjc-framework-AutomaticAssessmentConfiguration==9.0.1 in /Users/seokminlee/opt/anaconda3/lib/python3.9/site-packages (from pyobjc->pyautogui) (9.0.1)\n",
      "Requirement already satisfied: pyobjc-framework-MetalPerformanceShaders==9.0.1 in /Users/seokminlee/opt/anaconda3/lib/python3.9/site-packages (from pyobjc->pyautogui) (9.0.1)\n",
      "Requirement already satisfied: pyobjc-framework-LatentSemanticMapping==9.0.1 in /Users/seokminlee/opt/anaconda3/lib/python3.9/site-packages (from pyobjc->pyautogui) (9.0.1)\n",
      "Requirement already satisfied: pyobjc-framework-CoreML==9.0.1 in /Users/seokminlee/opt/anaconda3/lib/python3.9/site-packages (from pyobjc->pyautogui) (9.0.1)\n",
      "\n",
      "\u001b[1m[\u001b[0m\u001b[34;49mnotice\u001b[0m\u001b[1;39;49m]\u001b[0m\u001b[39;49m A new release of pip is available: \u001b[0m\u001b[31;49m23.0\u001b[0m\u001b[39;49m -> \u001b[0m\u001b[32;49m23.0.1\u001b[0m\n",
      "\u001b[1m[\u001b[0m\u001b[34;49mnotice\u001b[0m\u001b[1;39;49m]\u001b[0m\u001b[39;49m To update, run: \u001b[0m\u001b[32;49mpip install --upgrade pip\u001b[0m\n"
     ]
    }
   ],
   "source": [
    "!pip install pyautogui"
   ]
  },
  {
   "cell_type": "code",
   "execution_count": 12,
   "id": "85b73e00",
   "metadata": {},
   "outputs": [
    {
     "name": "stdout",
     "output_type": "stream",
     "text": [
      "Requirement already satisfied: mediapipe in /Users/seokminlee/opt/anaconda3/lib/python3.9/site-packages (0.9.1.0)\n",
      "Requirement already satisfied: numpy in /Users/seokminlee/opt/anaconda3/lib/python3.9/site-packages (from mediapipe) (1.24.2)\n",
      "Requirement already satisfied: matplotlib in /Users/seokminlee/opt/anaconda3/lib/python3.9/site-packages (from mediapipe) (3.5.2)\n",
      "Requirement already satisfied: flatbuffers>=2.0 in /Users/seokminlee/opt/anaconda3/lib/python3.9/site-packages (from mediapipe) (23.1.21)\n",
      "Requirement already satisfied: attrs>=19.1.0 in /Users/seokminlee/opt/anaconda3/lib/python3.9/site-packages (from mediapipe) (21.4.0)\n",
      "Requirement already satisfied: protobuf<4,>=3.11 in /Users/seokminlee/opt/anaconda3/lib/python3.9/site-packages (from mediapipe) (3.19.6)\n",
      "Requirement already satisfied: absl-py in /Users/seokminlee/opt/anaconda3/lib/python3.9/site-packages (from mediapipe) (1.4.0)\n",
      "Requirement already satisfied: opencv-contrib-python in /Users/seokminlee/opt/anaconda3/lib/python3.9/site-packages (from mediapipe) (4.7.0.72)\n",
      "Requirement already satisfied: cycler>=0.10 in /Users/seokminlee/opt/anaconda3/lib/python3.9/site-packages (from matplotlib->mediapipe) (0.11.0)\n",
      "Requirement already satisfied: pillow>=6.2.0 in /Users/seokminlee/opt/anaconda3/lib/python3.9/site-packages (from matplotlib->mediapipe) (9.2.0)\n",
      "Requirement already satisfied: fonttools>=4.22.0 in /Users/seokminlee/opt/anaconda3/lib/python3.9/site-packages (from matplotlib->mediapipe) (4.25.0)\n",
      "Requirement already satisfied: pyparsing>=2.2.1 in /Users/seokminlee/opt/anaconda3/lib/python3.9/site-packages (from matplotlib->mediapipe) (3.0.9)\n",
      "Requirement already satisfied: python-dateutil>=2.7 in /Users/seokminlee/opt/anaconda3/lib/python3.9/site-packages (from matplotlib->mediapipe) (2.8.2)\n",
      "Requirement already satisfied: kiwisolver>=1.0.1 in /Users/seokminlee/opt/anaconda3/lib/python3.9/site-packages (from matplotlib->mediapipe) (1.4.2)\n",
      "Requirement already satisfied: packaging>=20.0 in /Users/seokminlee/opt/anaconda3/lib/python3.9/site-packages (from matplotlib->mediapipe) (21.3)\n",
      "Requirement already satisfied: six>=1.5 in /Users/seokminlee/opt/anaconda3/lib/python3.9/site-packages (from python-dateutil>=2.7->matplotlib->mediapipe) (1.16.0)\n",
      "\n",
      "\u001b[1m[\u001b[0m\u001b[34;49mnotice\u001b[0m\u001b[1;39;49m]\u001b[0m\u001b[39;49m A new release of pip is available: \u001b[0m\u001b[31;49m23.0\u001b[0m\u001b[39;49m -> \u001b[0m\u001b[32;49m23.0.1\u001b[0m\n",
      "\u001b[1m[\u001b[0m\u001b[34;49mnotice\u001b[0m\u001b[1;39;49m]\u001b[0m\u001b[39;49m To update, run: \u001b[0m\u001b[32;49mpip install --upgrade pip\u001b[0m\n"
     ]
    }
   ],
   "source": [
    "!pip install mediapipe"
   ]
  }
 ],
 "metadata": {
  "kernelspec": {
   "display_name": "Python 3",
   "language": "python",
   "name": "python3"
  },
  "language_info": {
   "codemirror_mode": {
    "name": "ipython",
    "version": 3
   },
   "file_extension": ".py",
   "mimetype": "text/x-python",
   "name": "python",
   "nbconvert_exporter": "python",
   "pygments_lexer": "ipython3",
   "version": "3.10.2"
  },
  "toc": {
   "base_numbering": 1,
   "nav_menu": {},
   "number_sections": true,
   "sideBar": true,
   "skip_h1_title": false,
   "title_cell": "Table of Contents",
   "title_sidebar": "Contents",
   "toc_cell": false,
   "toc_position": {},
   "toc_section_display": true,
   "toc_window_display": false
  },
  "varInspector": {
   "cols": {
    "lenName": 16,
    "lenType": 16,
    "lenVar": 40
   },
   "kernels_config": {
    "python": {
     "delete_cmd_postfix": "",
     "delete_cmd_prefix": "del ",
     "library": "var_list.py",
     "varRefreshCmd": "print(var_dic_list())"
    },
    "r": {
     "delete_cmd_postfix": ") ",
     "delete_cmd_prefix": "rm(",
     "library": "var_list.r",
     "varRefreshCmd": "cat(var_dic_list()) "
    }
   },
   "types_to_exclude": [
    "module",
    "function",
    "builtin_function_or_method",
    "instance",
    "_Feature"
   ],
   "window_display": false
  },
  "vscode": {
   "interpreter": {
    "hash": "aee8b7b246df8f9039afb4144a1f6fd8d2ca17a180786b69acc140d282b71a49"
   }
  }
 },
 "nbformat": 4,
 "nbformat_minor": 5
}
